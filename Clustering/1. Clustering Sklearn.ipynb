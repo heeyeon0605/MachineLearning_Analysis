{
 "cells": [
  {
   "cell_type": "code",
   "execution_count": 2,
   "id": "67a247b9",
   "metadata": {},
   "outputs": [],
   "source": [
    "from __future__ import print_function\n",
    "from sklearn.datasets import make_blobs\n",
    "from sklearn.cluster import KMeans\n",
    "from pandas import DataFrame\n",
    "from scipy.stats import entropy\n",
    "from math import log, e\n",
    "import matplotlib.pyplot as plt\n",
    "import matplotlib.cm as ca\n",
    "import numpy as np\n",
    "import pandas as pd\n",
    "import math\n",
    "import timeit"
   ]
  },
  {
   "cell_type": "code",
   "execution_count": 5,
   "id": "f9759eee",
   "metadata": {},
   "outputs": [
    {
     "data": {
      "text/plain": [
       "<matplotlib.collections.PathCollection at 0x1869506a340>"
      ]
     },
     "execution_count": 5,
     "metadata": {},
     "output_type": "execute_result"
    },
    {
     "data": {
      "image/png": "[encoded data removed]",
      "text/plain": [
       "<Figure size 432x288 with 1 Axes>"
      ]
     },
     "metadata": {
      "needs_background": "light"
     },
     "output_type": "display_data"
    }
   ],
   "source": [
    "X = np.array([[2,0], [3,0], [4,0], [10,0], [11,0], [12,0], [20,0], [25,0], [30,0]])\n",
    "plt.scatter(X[:,0], X[:,1], s=100) # x좌표랑 y좌표, 점 크기 정하기"
   ]
  },
  {
   "cell_type": "code",
   "execution_count": 6,
   "id": "65b899a0",
   "metadata": {},
   "outputs": [
    {
     "data": {
      "text/plain": [
       "(array([2.5, 0. ]), array([16.,  0.]))"
      ]
     },
     "execution_count": 6,
     "metadata": {},
     "output_type": "execute_result"
    }
   ],
   "source": [
    "# K-means 1회차\n",
    "model1=KMeans(n_clusters=2, init=np.array([[3,0],[4,0]]), n_init=1, max_iter=1, random_state=1).fit(X)\n",
    "c0,c1 = model1.cluster_centers_\n",
    "c0,c1"
   ]
  },
  {
   "cell_type": "code",
   "execution_count": 10,
   "id": "e62769ac",
   "metadata": {},
   "outputs": [
    {
     "data": {
      "text/plain": [
       "(-372.75, array([0, 0, 0, 1, 1, 1, 1, 1, 1]))"
      ]
     },
     "execution_count": 10,
     "metadata": {},
     "output_type": "execute_result"
    }
   ],
   "source": [
    "model1.score(X), model1.labels_ # 중심점과의 거리 제곱값 합"
   ]
  },
  {
   "cell_type": "code",
   "execution_count": 13,
   "id": "a3810390",
   "metadata": {},
   "outputs": [],
   "source": [
    "def kmeans_df(model,c0,c1):\n",
    "    df=pd.DataFrame(np.hstack([X, \n",
    "                               np.linalg.norm(X-c0, axis=1)[:, np.newaxis], \n",
    "                               np.linalg.norm(X-c1, axis=1)[:, np.newaxis], \n",
    "                               model.labels_[:,np.newaxis]]),\n",
    "                    columns=[\"x좌표\", \"y좌표\",\"군집거리0\", \"군집거리1\", \"군집결과\"])\n",
    "    return df                                                 "
   ]
  },
  {
   "cell_type": "code",
   "execution_count": 14,
   "id": "a7458fed",
   "metadata": {},
   "outputs": [
    {
     "data": {
      "text/html": [
       "<div>\n",
       "<style scoped>\n",
       "    .dataframe tbody tr th:only-of-type {\n",
       "        vertical-align: middle;\n",
       "    }\n",
       "\n",
       "    .dataframe tbody tr th {\n",
       "        vertical-align: top;\n",
       "    }\n",
       "\n",
       "    .dataframe thead th {\n",
       "        text-align: right;\n",
       "    }\n",
       "</style>\n",
       "<table border=\"1\" class=\"dataframe\">\n",
       "  <thead>\n",
       "    <tr style=\"text-align: right;\">\n",
       "      <th></th>\n",
       "      <th>x좌표</th>\n",
       "      <th>y좌표</th>\n",
       "      <th>군집거리0</th>\n",
       "      <th>군집거리1</th>\n",
       "      <th>군집결과</th>\n",
       "    </tr>\n",
       "  </thead>\n",
       "  <tbody>\n",
       "    <tr>\n",
       "      <th>0</th>\n",
       "      <td>2.0</td>\n",
       "      <td>0.0</td>\n",
       "      <td>0.5</td>\n",
       "      <td>14.0</td>\n",
       "      <td>0.0</td>\n",
       "    </tr>\n",
       "    <tr>\n",
       "      <th>1</th>\n",
       "      <td>3.0</td>\n",
       "      <td>0.0</td>\n",
       "      <td>0.5</td>\n",
       "      <td>13.0</td>\n",
       "      <td>0.0</td>\n",
       "    </tr>\n",
       "    <tr>\n",
       "      <th>2</th>\n",
       "      <td>4.0</td>\n",
       "      <td>0.0</td>\n",
       "      <td>1.5</td>\n",
       "      <td>12.0</td>\n",
       "      <td>0.0</td>\n",
       "    </tr>\n",
       "    <tr>\n",
       "      <th>3</th>\n",
       "      <td>10.0</td>\n",
       "      <td>0.0</td>\n",
       "      <td>7.5</td>\n",
       "      <td>6.0</td>\n",
       "      <td>1.0</td>\n",
       "    </tr>\n",
       "    <tr>\n",
       "      <th>4</th>\n",
       "      <td>11.0</td>\n",
       "      <td>0.0</td>\n",
       "      <td>8.5</td>\n",
       "      <td>5.0</td>\n",
       "      <td>1.0</td>\n",
       "    </tr>\n",
       "    <tr>\n",
       "      <th>5</th>\n",
       "      <td>12.0</td>\n",
       "      <td>0.0</td>\n",
       "      <td>9.5</td>\n",
       "      <td>4.0</td>\n",
       "      <td>1.0</td>\n",
       "    </tr>\n",
       "    <tr>\n",
       "      <th>6</th>\n",
       "      <td>20.0</td>\n",
       "      <td>0.0</td>\n",
       "      <td>17.5</td>\n",
       "      <td>4.0</td>\n",
       "      <td>1.0</td>\n",
       "    </tr>\n",
       "    <tr>\n",
       "      <th>7</th>\n",
       "      <td>25.0</td>\n",
       "      <td>0.0</td>\n",
       "      <td>22.5</td>\n",
       "      <td>9.0</td>\n",
       "      <td>1.0</td>\n",
       "    </tr>\n",
       "    <tr>\n",
       "      <th>8</th>\n",
       "      <td>30.0</td>\n",
       "      <td>0.0</td>\n",
       "      <td>27.5</td>\n",
       "      <td>14.0</td>\n",
       "      <td>1.0</td>\n",
       "    </tr>\n",
       "  </tbody>\n",
       "</table>\n",
       "</div>"
      ],
      "text/plain": [
       "    x좌표  y좌표  군집거리0  군집거리1  군집결과\n",
       "0   2.0  0.0    0.5   14.0   0.0\n",
       "1   3.0  0.0    0.5   13.0   0.0\n",
       "2   4.0  0.0    1.5   12.0   0.0\n",
       "3  10.0  0.0    7.5    6.0   1.0\n",
       "4  11.0  0.0    8.5    5.0   1.0\n",
       "5  12.0  0.0    9.5    4.0   1.0\n",
       "6  20.0  0.0   17.5    4.0   1.0\n",
       "7  25.0  0.0   22.5    9.0   1.0\n",
       "8  30.0  0.0   27.5   14.0   1.0"
      ]
     },
     "execution_count": 14,
     "metadata": {},
     "output_type": "execute_result"
    }
   ],
   "source": [
    "kmeans_df(model1,c0,c1)"
   ]
  },
  {
   "cell_type": "code",
   "execution_count": 27,
   "id": "4806fd48",
   "metadata": {},
   "outputs": [],
   "source": [
    "def plot_cluster(model,c0,c1):\n",
    "    plt.scatter(X[model.labels_==0,0],X[model.labels_==0,1], s=100, marker='v', c='r')\n",
    "    plt.scatter(c0[0], c0[1], s=200, c='r')\n",
    "    plt.scatter(X[model.labels_==1,0],X[model.labels_==1,1], s=100, marker='^', c='b')\n",
    "    plt.scatter(c1[0], c1[1], s=200, c='b')\n",
    "    plt.show()"
   ]
  },
  {
   "cell_type": "code",
   "execution_count": 28,
   "id": "a1d94c95",
   "metadata": {},
   "outputs": [
    {
     "data": {
      "image/png": "[encoded data removed]",
      "text/plain": [
       "<Figure size 432x288 with 1 Axes>"
      ]
     },
     "metadata": {
      "needs_background": "light"
     },
     "output_type": "display_data"
    }
   ],
   "source": [
    "plot_cluster(model1,c0,c1)"
   ]
  },
  {
   "cell_type": "code",
   "execution_count": 29,
   "id": "7afcceed",
   "metadata": {},
   "outputs": [
    {
     "data": {
      "text/plain": [
       "(array([3., 0.]), array([18.,  0.]))"
      ]
     },
     "execution_count": 29,
     "metadata": {},
     "output_type": "execute_result"
    }
   ],
   "source": [
    "# K-means 2회차\n",
    "model1=KMeans(n_clusters=2, init=np.array([[2.5,0],[16,0]]), n_init=1, max_iter=1, random_state=1).fit(X)\n",
    "c0,c1 = model1.cluster_centers_\n",
    "c0,c1"
   ]
  },
  {
   "cell_type": "code",
   "execution_count": 30,
   "id": "cecaf223",
   "metadata": {},
   "outputs": [
    {
     "data": {
      "text/plain": [
       "(-333.0, array([0, 0, 0, 0, 1, 1, 1, 1, 1]))"
      ]
     },
     "execution_count": 30,
     "metadata": {},
     "output_type": "execute_result"
    }
   ],
   "source": [
    "model1.score(X), model1.labels_"
   ]
  },
  {
   "cell_type": "code",
   "execution_count": 31,
   "id": "11f86bfd",
   "metadata": {},
   "outputs": [
    {
     "data": {
      "text/html": [
       "<div>\n",
       "<style scoped>\n",
       "    .dataframe tbody tr th:only-of-type {\n",
       "        vertical-align: middle;\n",
       "    }\n",
       "\n",
       "    .dataframe tbody tr th {\n",
       "        vertical-align: top;\n",
       "    }\n",
       "\n",
       "    .dataframe thead th {\n",
       "        text-align: right;\n",
       "    }\n",
       "</style>\n",
       "<table border=\"1\" class=\"dataframe\">\n",
       "  <thead>\n",
       "    <tr style=\"text-align: right;\">\n",
       "      <th></th>\n",
       "      <th>x좌표</th>\n",
       "      <th>y좌표</th>\n",
       "      <th>군집거리0</th>\n",
       "      <th>군집거리1</th>\n",
       "      <th>군집결과</th>\n",
       "    </tr>\n",
       "  </thead>\n",
       "  <tbody>\n",
       "    <tr>\n",
       "      <th>0</th>\n",
       "      <td>2.0</td>\n",
       "      <td>0.0</td>\n",
       "      <td>1.0</td>\n",
       "      <td>16.0</td>\n",
       "      <td>0.0</td>\n",
       "    </tr>\n",
       "    <tr>\n",
       "      <th>1</th>\n",
       "      <td>3.0</td>\n",
       "      <td>0.0</td>\n",
       "      <td>0.0</td>\n",
       "      <td>15.0</td>\n",
       "      <td>0.0</td>\n",
       "    </tr>\n",
       "    <tr>\n",
       "      <th>2</th>\n",
       "      <td>4.0</td>\n",
       "      <td>0.0</td>\n",
       "      <td>1.0</td>\n",
       "      <td>14.0</td>\n",
       "      <td>0.0</td>\n",
       "    </tr>\n",
       "    <tr>\n",
       "      <th>3</th>\n",
       "      <td>10.0</td>\n",
       "      <td>0.0</td>\n",
       "      <td>7.0</td>\n",
       "      <td>8.0</td>\n",
       "      <td>0.0</td>\n",
       "    </tr>\n",
       "    <tr>\n",
       "      <th>4</th>\n",
       "      <td>11.0</td>\n",
       "      <td>0.0</td>\n",
       "      <td>8.0</td>\n",
       "      <td>7.0</td>\n",
       "      <td>1.0</td>\n",
       "    </tr>\n",
       "    <tr>\n",
       "      <th>5</th>\n",
       "      <td>12.0</td>\n",
       "      <td>0.0</td>\n",
       "      <td>9.0</td>\n",
       "      <td>6.0</td>\n",
       "      <td>1.0</td>\n",
       "    </tr>\n",
       "    <tr>\n",
       "      <th>6</th>\n",
       "      <td>20.0</td>\n",
       "      <td>0.0</td>\n",
       "      <td>17.0</td>\n",
       "      <td>2.0</td>\n",
       "      <td>1.0</td>\n",
       "    </tr>\n",
       "    <tr>\n",
       "      <th>7</th>\n",
       "      <td>25.0</td>\n",
       "      <td>0.0</td>\n",
       "      <td>22.0</td>\n",
       "      <td>7.0</td>\n",
       "      <td>1.0</td>\n",
       "    </tr>\n",
       "    <tr>\n",
       "      <th>8</th>\n",
       "      <td>30.0</td>\n",
       "      <td>0.0</td>\n",
       "      <td>27.0</td>\n",
       "      <td>12.0</td>\n",
       "      <td>1.0</td>\n",
       "    </tr>\n",
       "  </tbody>\n",
       "</table>\n",
       "</div>"
      ],
      "text/plain": [
       "    x좌표  y좌표  군집거리0  군집거리1  군집결과\n",
       "0   2.0  0.0    1.0   16.0   0.0\n",
       "1   3.0  0.0    0.0   15.0   0.0\n",
       "2   4.0  0.0    1.0   14.0   0.0\n",
       "3  10.0  0.0    7.0    8.0   0.0\n",
       "4  11.0  0.0    8.0    7.0   1.0\n",
       "5  12.0  0.0    9.0    6.0   1.0\n",
       "6  20.0  0.0   17.0    2.0   1.0\n",
       "7  25.0  0.0   22.0    7.0   1.0\n",
       "8  30.0  0.0   27.0   12.0   1.0"
      ]
     },
     "execution_count": 31,
     "metadata": {},
     "output_type": "execute_result"
    }
   ],
   "source": [
    "kmeans_df(model1,c0,c1)"
   ]
  },
  {
   "cell_type": "code",
   "execution_count": 32,
   "id": "4f629842",
   "metadata": {},
   "outputs": [
    {
     "data": {
      "image/png": "[encoded data removed]",
      "text/plain": [
       "<Figure size 432x288 with 1 Axes>"
      ]
     },
     "metadata": {
      "needs_background": "light"
     },
     "output_type": "display_data"
    }
   ],
   "source": [
    "plot_cluster(model1,c0,c1)"
   ]
  },
  {
   "cell_type": "code",
   "execution_count": null,
   "id": "dde1844c",
   "metadata": {},
   "outputs": [],
   "source": []
  },
  {
   "cell_type": "code",
   "execution_count": null,
   "id": "ec2cad26",
   "metadata": {},
   "outputs": [],
   "source": []
  }
 ],
 "metadata": {
  "kernelspec": {
   "display_name": "Python 3",
   "language": "python",
   "name": "python3"
  },
  "language_info": {
   "codemirror_mode": {
    "name": "ipython",
    "version": 3
   },
   "file_extension": ".py",
   "mimetype": "text/x-python",
   "name": "python",
   "nbconvert_exporter": "python",
   "pygments_lexer": "ipython3",
   "version": "3.8.8"
  }
 },
 "nbformat": 4,
 "nbformat_minor": 5
}
